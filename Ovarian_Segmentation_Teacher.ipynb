{
 "cells": [
  {
   "cell_type": "markdown",
   "metadata": {},
   "source": [
    "# Ovarian Cancer CT Segmentation Lab\n",
    "\n",
    "Welcome to the ovarian cancer segmentation lab!  \n",
    "In this lab, you will learn how to:\n",
    "- Load and explore a real-world medical imaging dataset (CT scans and segmentation masks)\n",
    "- Visualize and analyze the data\n",
    "- Prepare the data for deep learning\n",
    "- (Optionally) Train a segmentation model\n",
    "\n",
    "**Dataset:**  \n",
    "A subset of 50 ovarian cancer CT scans and their segmentation masks, pre-packaged for this lab.\n",
    "\n",
    "Let's get started!"
   ]
  },
  {
   "cell_type": "markdown",
   "metadata": {},
   "source": [
    "## 2. Mount Google Drive and Extract Data\n",
    "\n",
    "We will use Google Drive to access the dataset.  \n",
    "Make sure you have uploaded your `Data_Subsample.zip` file to your Google Drive."
   ]
  },
  {
   "cell_type": "code",
   "execution_count": null,
   "metadata": {
    "vscode": {
     "languageId": "plaintext"
    }
   },
   "outputs": [],
   "source": [
    "from google.colab import drive\n",
    "drive.mount('/content/drive')\n",
    "\n",
    "# List files in your Drive to confirm the zip location\n",
    "!ls /content/drive/MyDrive\n",
    "\n",
    "# Unzip the data (adjust the path if your zip is in a subfolder)\n",
    "!unzip -o /content/drive/MyDrive/Data_Subsample.zip"
   ]
  },
  {
   "cell_type": "markdown",
   "metadata": {},
   "source": [
    "## 3. Install Required Packages\n",
    "\n",
    "We need some Python packages for medical image processing and deep learning."
   ]
  },
  {
   "cell_type": "code",
   "execution_count": null,
   "metadata": {
    "vscode": {
     "languageId": "plaintext"
    }
   },
   "outputs": [],
   "source": [
    "!pip install nibabel scikit-learn torch torchvision matplotlib seaborn tqdm"
   ]
  },
  {
   "cell_type": "markdown",
   "metadata": {},
   "source": [
    "## 4. Imports and Setup\n",
    "\n",
    "Let's import the necessary libraries and set up our environment."
   ]
  },
  {
   "cell_type": "code",
   "execution_count": null,
   "metadata": {
    "vscode": {
     "languageId": "plaintext"
    }
   },
   "outputs": [],
   "source": [
    "import os\n",
    "import numpy as np\n",
    "import torch\n",
    "from torch.utils.data import Dataset, DataLoader\n",
    "from torchvision import transforms\n",
    "import nibabel as nib\n",
    "import matplotlib.pyplot as plt\n",
    "import seaborn as sns\n",
    "from tqdm.notebook import tqdm\n",
    "\n",
    "# For reproducibility\n",
    "torch.manual_seed(42)\n",
    "np.random.seed(42)"
   ]
  },
  {
   "cell_type": "markdown",
   "metadata": {},
   "source": [
    "## 5. Dataset Class and Data Loading\n",
    "\n",
    "We define a PyTorch Dataset class to load CT scans and their corresponding segmentation masks."
   ]
  },
  {
   "cell_type": "code",
   "execution_count": null,
   "metadata": {
    "vscode": {
     "languageId": "plaintext"
    }
   },
   "outputs": [],
   "source": [
    "class OvarianDataset(Dataset):\n",
    "    def __init__(self, ct_dir, mask_dir, transform=None):\n",
    "        self.ct_files = sorted([f for f in os.listdir(ct_dir) if f.endswith('.nii.gz')])\n",
    "        self.ct_dir = ct_dir\n",
    "        self.mask_dir = mask_dir\n",
    "        self.transform = transform\n",
    "\n",
    "    def __len__(self):\n",
    "        return len(self.ct_files)\n",
    "\n",
    "    def __getitem__(self, idx):\n",
    "        ct_path = os.path.join(self.ct_dir, self.ct_files[idx])\n",
    "        mask_path = os.path.join(self.mask_dir, self.ct_files[idx])\n",
    "        ct_img = nib.load(ct_path).get_fdata()\n",
    "        mask = nib.load(mask_path).get_fdata()\n",
    "        ct_img = (ct_img - ct_img.min()) / (ct_img.max() - ct_img.min())\n",
    "        ct_img = torch.from_numpy(ct_img).float().unsqueeze(0)\n",
    "        mask = torch.from_numpy(mask).long()\n",
    "        if self.transform:\n",
    "            ct_img = self.transform(ct_img)\n",
    "        return ct_img, mask\n",
    "\n",
    "# Set up paths\n",
    "ct_dir = 'Data_Subsample/CT'\n",
    "mask_dir = 'Data_Subsample/Segmentation'\n",
    "\n",
    "dataset = OvarianDataset(ct_dir, mask_dir)\n",
    "print(f\"Total cases: {len(dataset)}\")"
   ]
  },
  {
   "cell_type": "markdown",
   "metadata": {},
   "source": [
    "## 6. Exploratory Data Analysis (EDA)\n",
    "\n",
    "Let's visualize the intensity distribution and a few slices from the CT scans and masks."
   ]
  },
  {
   "cell_type": "code",
   "execution_count": null,
   "metadata": {
    "vscode": {
     "languageId": "plaintext"
    }
   },
   "outputs": [],
   "source": [
    "def analyze_intensity_distribution(ct_img, mask):\n",
    "    plt.figure(figsize=(15, 5))\n",
    "    plt.subplot(1, 2, 1)\n",
    "    sns.histplot(ct_img.flatten(), bins=50)\n",
    "    plt.title('CT Intensity Distribution')\n",
    "    plt.xlabel('Intensity')\n",
    "    plt.subplot(1, 2, 2)\n",
    "    sns.histplot(mask.flatten(), bins=2)\n",
    "    plt.title('Mask Distribution')\n",
    "    plt.xlabel('Class')\n",
    "    plt.show()\n",
    "\n",
    "def show_slices(ct_img, mask, num_slices=3):\n",
    "    middle = ct_img.shape[2] // 2\n",
    "    step = ct_img.shape[2] // (num_slices + 1)\n",
    "    plt.figure(figsize=(15, 4 * num_slices))\n",
    "    for i in range(num_slices):\n",
    "        idx = middle + (i - num_slices // 2) * step\n",
    "        plt.subplot(num_slices, 3, i*3 + 1)\n",
    "        plt.imshow(ct_img[0, :, :, idx], cmap='gray')\n",
    "        plt.title(f'CT Slice {idx}')\n",
    "        plt.axis('off')\n",
    "        plt.subplot(num_slices, 3, i*3 + 2)\n",
    "        plt.imshow(mask[:, :, idx], cmap='gray')\n",
    "        plt.title(f'Mask Slice {idx}')\n",
    "        plt.axis('off')\n",
    "        plt.subplot(num_slices, 3, i*3 + 3)\n",
    "        plt.imshow(ct_img[0, :, :, idx], cmap='gray')\n",
    "        plt.imshow(mask[:, :, idx], alpha=0.3, cmap='Reds')\n",
    "        plt.title(f'Overlay Slice {idx}')\n",
    "        plt.axis('off')\n",
    "    plt.tight_layout()\n",
    "    plt.show()\n",
    "\n",
    "# Visualize a sample\n",
    "ct, mask = dataset[0]\n",
    "analyze_intensity_distribution(ct.numpy(), mask.numpy())\n",
    "show_slices(ct.numpy(), mask.numpy())"
   ]
  },
  {
   "cell_type": "markdown",
   "metadata": {},
   "source": [
    "## 7. DataLoader for Model Training\n",
    "\n",
    "Let's prepare a DataLoader for batching and shuffling the data, ready for model training."
   ]
  },
  {
   "cell_type": "code",
   "execution_count": null,
   "metadata": {
    "vscode": {
     "languageId": "plaintext"
    }
   },
   "outputs": [],
   "source": [
    "transform = None  # You can add transforms if needed\n",
    "\n",
    "dataloader = DataLoader(\n",
    "    dataset,\n",
    "    batch_size=4,\n",
    "    shuffle=True,\n",
    "    num_workers=2\n",
    ")\n",
    "\n",
    "# Check a batch\n",
    "for ct_batch, mask_batch in dataloader:\n",
    "    print(f\"CT batch shape: {ct_batch.shape}\")\n",
    "    print(f\"Mask batch shape: {mask_batch.shape}\")\n",
    "    break"
   ]
  },
  {
   "cell_type": "markdown",
   "metadata": {},
   "source": [
    "## 8. Next Steps\n",
    "\n",
    "You are now ready to:\n",
    "- Explore the data further\n",
    "- Implement and train a segmentation model (e.g., U-Net)\n",
    "- Evaluate your results\n",
    "\n",
    "**Tip:**  \n",
    "You can add more cells for model definition, training, and evaluation as needed!\n",
    "\n",
    "---\n",
    "\n",
    "**Congratulations! You have set up a real-world ovarian cancer segmentation lab in Colab!**"
   ]
  }
 ],
 "metadata": {
  "language_info": {
   "name": "python"
  }
 },
 "nbformat": 4,
 "nbformat_minor": 2
}
